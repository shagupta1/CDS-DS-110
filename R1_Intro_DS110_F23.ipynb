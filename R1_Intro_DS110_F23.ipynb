{
  "cells": [
    {
      "cell_type": "markdown",
      "metadata": {
        "id": "view-in-github",
        "colab_type": "text"
      },
      "source": [
        "<a href=\"https://colab.research.google.com/github/shagupta1/CDS-DS-110/blob/main/R1_Intro_DS110_F23.ipynb\" target=\"_parent\"><img src=\"https://colab.research.google.com/assets/colab-badge.svg\" alt=\"Open In Colab\"/></a>"
      ]
    },
    {
      "cell_type": "markdown",
      "metadata": {
        "id": "aJ-1NTdRriK0"
      },
      "source": [
        "1.  Try writing a line that prints a \"hello\" message."
      ]
    },
    {
      "cell_type": "code",
      "execution_count": null,
      "metadata": {
        "colab": {
          "base_uri": "https://localhost:8080/"
        },
        "id": "16mqF1GkrbSu",
        "outputId": "83e9ce9a-1b3a-4e88-89d5-57cc01382033"
      },
      "outputs": [
        {
          "output_type": "stream",
          "name": "stdout",
          "text": [
            "hello\n"
          ]
        }
      ],
      "source": [
        "print(\"hello\")"
      ]
    },
    {
      "cell_type": "markdown",
      "metadata": {
        "id": "Scttxs2srojl"
      },
      "source": [
        "2.  Try using the math module to find the square root of 169."
      ]
    },
    {
      "cell_type": "code",
      "execution_count": null,
      "metadata": {
        "colab": {
          "base_uri": "https://localhost:8080/"
        },
        "id": "LqojDfAYrwLR",
        "outputId": "0451f111-fb4f-4b94-d571-f6c95b9cff61"
      },
      "outputs": [
        {
          "output_type": "stream",
          "name": "stdout",
          "text": [
            "13.0\n"
          ]
        }
      ],
      "source": [
        "from IPython.core.display import Math\n",
        "import math\n",
        "print (math.sqrt(169))"
      ]
    },
    {
      "cell_type": "markdown",
      "metadata": {
        "id": "nqMo62kRr1Fk"
      },
      "source": [
        "3.  Try writing a haiku, then printing that haiku with the correct newlines."
      ]
    },
    {
      "cell_type": "code",
      "execution_count": null,
      "metadata": {
        "colab": {
          "base_uri": "https://localhost:8080/"
        },
        "id": "ZvW_dDZisAMO",
        "outputId": "99ba867c-8458-4f63-a823-b384cc7dd8dd"
      },
      "outputs": [
        {
          "output_type": "stream",
          "name": "stdout",
          "text": [
            "The light of a candle\n",
            "Is transferred to another candle —\n",
            "spring twilight\n"
          ]
        }
      ],
      "source": [
        "print(\"The light of a candle\\nIs transferred to another candle —\\nspring twilight\")\n"
      ]
    },
    {
      "cell_type": "markdown",
      "metadata": {
        "id": "cQc37itksBwS"
      },
      "source": [
        "4.  Try writing an expression that is true unless both a and b are True."
      ]
    },
    {
      "cell_type": "code",
      "execution_count": null,
      "metadata": {
        "colab": {
          "base_uri": "https://localhost:8080/"
        },
        "id": "CAmq0Q4ssHL8",
        "outputId": "0961d1e9-8f7d-4a86-9d80-8871c73c9dab"
      },
      "outputs": [
        {
          "output_type": "stream",
          "name": "stdout",
          "text": [
            "incorrect\n"
          ]
        }
      ],
      "source": [
        "if x == 1 and y == 0:\n",
        "  print(\"true\")\n",
        "else:\n",
        "  print(\"incorrect\")\n"
      ]
    },
    {
      "cell_type": "markdown",
      "metadata": {
        "id": "EVo68B54UEu7"
      },
      "source": [
        "5.  Write code that prints a different message depending on whether the variable *a* is positive (print \"Positive\"), negative (print \"Negative\"), or 0 (print \"Zero\")."
      ]
    },
    {
      "cell_type": "code",
      "execution_count": null,
      "metadata": {
        "id": "V6M-_gvYVPA1",
        "colab": {
          "base_uri": "https://localhost:8080/"
        },
        "outputId": "3231b3ca-cc88-452a-ead8-90fcb533a4c1"
      },
      "outputs": [
        {
          "output_type": "stream",
          "name": "stdout",
          "text": [
            "Enter a variable0\n",
            "Zero\n"
          ]
        }
      ],
      "source": [
        "x = int(input(\"Enter a variable\"))\n",
        "if x> 0:\n",
        "  print(\"Positive\")\n",
        "elif x<0:\n",
        "  print (\"negative\")\n",
        "else:\n",
        "  print(\"Zero\")"
      ]
    },
    {
      "cell_type": "markdown",
      "metadata": {
        "id": "yE6XCjnAVb4U"
      },
      "source": [
        "6.  Define a list with 4 items in it.  Then write a line that adds a fifth element to the list."
      ]
    },
    {
      "cell_type": "code",
      "execution_count": null,
      "metadata": {
        "colab": {
          "base_uri": "https://localhost:8080/"
        },
        "id": "GIG3v8bFWA6n",
        "outputId": "e58256a1-df34-4350-c99e-b17a7200d2ad"
      },
      "outputs": [
        {
          "output_type": "stream",
          "name": "stdout",
          "text": [
            "['Sushi', 'Ramen', 'Pizza', 'Salad', 'Egg']\n"
          ]
        }
      ],
      "source": [
        "Food = [\"Sushi\", \"Ramen\", \"Pizza\", \"Salad\"]\n",
        "Food.append(\"Egg\")\n",
        "print(Food)"
      ]
    },
    {
      "cell_type": "markdown",
      "metadata": {
        "id": "Vc0VwMv2_ioB"
      },
      "source": [
        "7.  Write code that takes the list represented by the variable L and pads it with a 0 if the list is of an odd length.  For example, [1,2,3] becomes [1,2,3,0] while [1,2] stays [1,2]."
      ]
    },
    {
      "cell_type": "code",
      "execution_count": null,
      "metadata": {
        "colab": {
          "base_uri": "https://localhost:8080/"
        },
        "id": "84EAv-9W_ioB",
        "outputId": "5a2747e4-8d16-475a-a3fe-d33f9a089308"
      },
      "outputs": [
        {
          "output_type": "stream",
          "name": "stdout",
          "text": [
            "[1, 2, 3, 4]\n"
          ]
        }
      ],
      "source": [
        "L = [1, 2, 3, 4]\n",
        "if len(L)%2 != 0:\n",
        "  L.append(0)\n",
        "print(L)\n"
      ]
    },
    {
      "cell_type": "markdown",
      "metadata": {
        "id": "_hVOBZ86_ioB"
      },
      "source": [
        "# Tool focus:  Version Control\n",
        "\n",
        "Have you ever worked on a project where you needed to pass around a file to modify?  You probably were a little discontent with the process.  Near the end, it may have been hard to determine whether FinalFinal.docx was really your most recent copy, or if there might be a FinalFinalFinal.docx that was more recent.  If you were collaborating, it may have been annoying to try to keep people from working on the same stuff simultaneously.  And if you wanted to go back to an earlier version, you could only hope you saved a separate version around the right time."
      ]
    },
    {
      "cell_type": "markdown",
      "metadata": {
        "id": "YvjEzYuG_ioC"
      },
      "source": [
        "*Version control*, and the git/Github software and site in particular, is the programmer's answer to all the aforementioned problems.\n",
        "\n",
        "* A central server keeps track of a series of versions of the code.  It's always clear what the most recent version is, and it's relatively easy to go back to an earlier version.  If code becomes buggy, this helps determine when the bug was introduced.\n",
        "\n",
        "* When people get copies to work on locally, on their own machines, they create their own individual histories locally.  People are free to ignore their collaborators' work until they merge their changes back into the central repository.\n",
        "\n",
        "* When it's time to merge local changes into the central repository, the code is scanned for differences, and any discrepancies resulting from others' changes are highlighted and resolved."
      ]
    },
    {
      "cell_type": "markdown",
      "metadata": {
        "id": "I_6M4UP7_ioC"
      },
      "source": [
        "If you become familiar with version control now, it may especially help with the final project, where you will have multiple individuals trying to work with the same files at the same time."
      ]
    },
    {
      "cell_type": "markdown",
      "metadata": {
        "id": "Ihs4ubsg_ioC"
      },
      "source": [
        "* If you do not already have a github account, go create one now at:  https://github.com/\n",
        "* Once you've created an account, create a new repository.  If you don't see the big green button immediately, you can click on yourself, then on \"Respositories,\" then \"New\" in the upper right.\n",
        "* Name your repository something arbitrary, like \"repo_test.\"  Also make it private.  The other options don't really matter right now.\n",
        "* Assuming you are doing this recitation in Colab, go to File->Save a copy in GitHub.  Choose your notebook and save it to GitHub!  (You might also change the commit message - this is a good habit to get into so that you can find particular versions later.)\n",
        "* Check the repo on the GitHub website (under your username->Repositories), and verify that your code is now on the web (privately, assuming you chose \"private\")."
      ]
    },
    {
      "cell_type": "markdown",
      "metadata": {
        "id": "QG8oY5vn_ioD"
      },
      "source": [
        "* Now let's try going back to an earlier version.  Fill the following code box with junk, and File->Save a copy in GitHub."
      ]
    },
    {
      "cell_type": "code",
      "execution_count": 24,
      "metadata": {
        "id": "3bK1iZij_ioD",
        "colab": {
          "base_uri": "https://localhost:8080/"
        },
        "outputId": "ead78019-f233-46e1-ebb4-fbcc639e0a8e"
      },
      "outputs": [
        {
          "output_type": "stream",
          "name": "stdout",
          "text": [
            "My name is shaurya gupta, i am currently a student at BU\n"
          ]
        }
      ],
      "source": [
        "print(\"My name is shaurya gupta, i am currently a student at BU\")"
      ]
    },
    {
      "cell_type": "markdown",
      "metadata": {
        "id": "d7kktQbx_ioD"
      },
      "source": [
        "* You can now see both versions of the notebook in the GitHub repository history.  (Repositories->your_repo_name->your_filename->History, with the clock icon.)\n",
        "* To open the most recent version, go to \"File->Open Notebook\" in Colab and choose the GitHub tab at the top.  Choose your repo and open it.\n",
        "* You can also access the versions in your history from Colab.  Go to File->Revision History.  (Notice that the right-hand side displays differences between the files.)  The dots next to each item in the history have the option of Open in Colab.  Try restoring an old version now."
      ]
    },
    {
      "cell_type": "markdown",
      "metadata": {
        "id": "UXwIbXut_ioD"
      },
      "source": [
        "* Last, try collaborating with someone on this file.  Within your repo on GitHub, go to Settings->Collaborators->Add people.  Add someone in your section who is willing to share their username with you.  \"Sign\" each others' work in the last text box, and show this along with your completed code to the TA to finish this section."
      ]
    },
    {
      "cell_type": "markdown",
      "metadata": {
        "id": "yEfttLFy_ioE"
      },
      "source": [
        "**Your collaborator's \"signature\" here**"
      ]
    },
    {
      "cell_type": "code",
      "execution_count": null,
      "metadata": {
        "id": "OfUOPzx-_ioE"
      },
      "outputs": [],
      "source": []
    }
  ],
  "metadata": {
    "colab": {
      "provenance": [],
      "include_colab_link": true
    },
    "kernelspec": {
      "display_name": "Python 3",
      "language": "python",
      "name": "python3"
    },
    "language_info": {
      "codemirror_mode": {
        "name": "ipython",
        "version": 3
      },
      "file_extension": ".py",
      "mimetype": "text/x-python",
      "name": "python",
      "nbconvert_exporter": "python",
      "pygments_lexer": "ipython3",
      "version": "3.8.8"
    }
  },
  "nbformat": 4,
  "nbformat_minor": 0
}