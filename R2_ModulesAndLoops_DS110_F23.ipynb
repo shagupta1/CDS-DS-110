{
  "cells": [
    {
      "cell_type": "markdown",
      "metadata": {
        "id": "view-in-github",
        "colab_type": "text"
      },
      "source": [
        "<a href=\"https://colab.research.google.com/github/shagupta1/CDS-DS-110/blob/main/R2_ModulesAndLoops_DS110_F23.ipynb\" target=\"_parent\"><img src=\"https://colab.research.google.com/assets/colab-badge.svg\" alt=\"Open In Colab\"/></a>"
      ]
    },
    {
      "cell_type": "markdown",
      "metadata": {
        "id": "Bv4gY-7zzUHI"
      },
      "source": [
        "1.  Use matplotlib to plot the points:  (2,3), (4, 5), (8,9). Plot them as both points and lines connecting the points."
      ]
    },
    {
      "cell_type": "code",
      "execution_count": 1,
      "metadata": {
        "id": "brwrokHdzCSl",
        "colab": {
          "base_uri": "https://localhost:8080/",
          "height": 499
        },
        "outputId": "a1b7c788-cb3f-4a68-af73-403e9e7c20de"
      },
      "outputs": [
        {
          "output_type": "stream",
          "name": "stdout",
          "text": [
            "[[2 3]\n",
            " [4 5]\n",
            " [8 9]]\n"
          ]
        },
        {
          "output_type": "execute_result",
          "data": {
            "text/plain": [
              "[<matplotlib.lines.Line2D at 0x79793bdc5ba0>]"
            ]
          },
          "metadata": {},
          "execution_count": 1
        },
        {
          "output_type": "display_data",
          "data": {
            "text/plain": [
              "<Figure size 640x480 with 1 Axes>"
            ],
            "image/png": "[encoded data removed]"
          },
          "metadata": {}
        }
      ],
      "source": [
        "import numpy as np\n",
        "import matplotlib.pyplot as plt\n",
        "my_points = np.array([[2,3], [4,5], [8,9]]) # Each list is a point\n",
        "\n",
        "print(my_points)\n",
        "plt.plot(my_points[:,0], my_points[:,1])    # Slice to get x values separate from y values"
      ]
    },
    {
      "cell_type": "markdown",
      "metadata": {
        "id": "v6K_7jYKdyKB"
      },
      "source": [
        "2.  Use a loop to find the average of the numbers in mylist."
      ]
    },
    {
      "cell_type": "code",
      "execution_count": 7,
      "metadata": {
        "id": "Vp92PMARefVD",
        "colab": {
          "base_uri": "https://localhost:8080/"
        },
        "outputId": "116bddda-7d33-461c-e88a-ac984f5d1f6b"
      },
      "outputs": [
        {
          "output_type": "stream",
          "name": "stdout",
          "text": [
            "8.4\n"
          ]
        }
      ],
      "source": [
        "mylist = [3, 4, 5, 10, 20]\n",
        "total = 0\n",
        "for x in mylist:\n",
        "  total += x\n",
        "print(total/len(mylist))\n"
      ]
    },
    {
      "cell_type": "markdown",
      "metadata": {
        "id": "VO9G7bxHbNBI"
      },
      "source": [
        "3. Write a loop that iterates through every string in the list mystrings and builds a new list where all the strings of the original list are in upper case (use the upper() string method).  Hint:  start with an empty list and append() the modified strings as you iterate through."
      ]
    },
    {
      "cell_type": "code",
      "execution_count": 5,
      "metadata": {
        "id": "zGKX3Pfpc0-9",
        "colab": {
          "base_uri": "https://localhost:8080/"
        },
        "outputId": "d3319e01-d97a-47f5-f91e-1e4ce7f96d16"
      },
      "outputs": [
        {
          "output_type": "stream",
          "name": "stdout",
          "text": [
            "['TO', 'BE', 'OR', 'NOT', 'TO', 'BE']\n"
          ]
        }
      ],
      "source": [
        "mystrings = ['To', 'be', 'or', 'not', 'to', 'be']\n",
        "\n",
        "mystrings_upper = []\n",
        "for string in mystrings:\n",
        "  mystrings_upper.append(string.upper())\n",
        "print(mystrings_upper)"
      ]
    },
    {
      "cell_type": "markdown",
      "metadata": {
        "id": "opDiGIln1PbC"
      },
      "source": [
        "4. Iterate through the following list of tuples to find and print the worst movie (movie with the lowest second element)."
      ]
    },
    {
      "cell_type": "code",
      "execution_count": 6,
      "metadata": {
        "id": "Z1bHvgdI1Xsu",
        "colab": {
          "base_uri": "https://localhost:8080/"
        },
        "outputId": "0251259f-7792-4e3e-c3b9-eb4514b496c7"
      },
      "outputs": [
        {
          "output_type": "stream",
          "name": "stdout",
          "text": [
            "Movie with thw worst rating: Cats its rating is 1.5\n"
          ]
        }
      ],
      "source": [
        "movies = [('Plan 9 from Outer Space', 2),\n",
        "          ('Cats', 1.5),\n",
        "          ('The Matrix Reloaded', 2),\n",
        "          ('The Fifth Element', 2.5)]\n",
        "worst = 5\n",
        "movie = \"\"\n",
        "for name, rating in movies:\n",
        "  if rating < worst:\n",
        "    worst = rating\n",
        "    movie = name\n",
        "print(\"Movie with thw worst rating:\", movie, \"its rating is\", worst)\n"
      ]
    },
    {
      "cell_type": "markdown",
      "metadata": {
        "id": "B3qinv7hz0w5"
      },
      "source": [
        "5. Write a loop that iterates through a list and prints every other item, starting with printing the 0th item.  (Hint:  If the index is divided by 2, the remainder should be 0 to print.)"
      ]
    },
    {
      "cell_type": "code",
      "execution_count": null,
      "metadata": {
        "id": "4gPr7u3-zzdO"
      },
      "outputs": [],
      "source": [
        "# TODO"
      ]
    },
    {
      "cell_type": "markdown",
      "metadata": {
        "id": "-rg1oeoDfofQ"
      },
      "source": [
        "6. Plot the curve $f(x) = x^3$ from x = 0 to x = 5.  Use np.linspace to get a lot of equally spaced x values, and recall that using exponentiation on a vector raises each element to that power."
      ]
    },
    {
      "cell_type": "code",
      "execution_count": null,
      "metadata": {
        "id": "8LTRGG4ggRzX"
      },
      "outputs": [],
      "source": [
        "# TODO"
      ]
    },
    {
      "cell_type": "markdown",
      "metadata": {
        "id": "-vF06Z8uZpeW"
      },
      "source": [
        "# Tool focus:  The Linter\n",
        "\n",
        "Besides just working, programs are also supposed to be human-readable.  For every programming language, there are a variety of rules that are commonly followed as a matter of convention in order to achieve a more consistent, readable style across programmers.  For example, when writing a=2+2, is it better to write a = 2 + 2?  (Yes.)"
      ]
    },
    {
      "cell_type": "markdown",
      "metadata": {
        "id": "89_hohYMZpeW"
      },
      "source": [
        "Rather than spend class time teaching these rules (which are laid out extensively for Python in a document called [PEP8](https://peps.python.org/pep-0008/)), we introduce you to a kind of program that checks your code for style \"violations\" automatically.  These kinds of programs are called \"linters.\"  We don't grade on style much in this course, but if you were to submit code as part of a job application process, you'd want to be sure it obeyed all the rules."
      ]
    },
    {
      "cell_type": "markdown",
      "metadata": {
        "id": "nXHH05BgZpeW"
      },
      "source": [
        "Run the following to ensure the necessary libraries are present.\n"
      ]
    },
    {
      "cell_type": "code",
      "execution_count": null,
      "metadata": {
        "id": "fd8KfoEKZpeW",
        "outputId": "5e9620dd-2ab1-4888-9464-d941a67704de"
      },
      "outputs": [
        {
          "name": "stdout",
          "output_type": "stream",
          "text": [
            "Requirement already satisfied: pycodestyle in /opt/anaconda3/lib/python3.8/site-packages (2.7.0)\n",
            "Requirement already satisfied: pycodestyle_magic in /opt/anaconda3/lib/python3.8/site-packages (0.5)\n",
            "Requirement already satisfied: flake8 in /opt/anaconda3/lib/python3.8/site-packages (3.9.0)\n",
            "Requirement already satisfied: mccabe<0.7.0,>=0.6.0 in /opt/anaconda3/lib/python3.8/site-packages (from flake8) (0.6.1)\n",
            "Requirement already satisfied: pycodestyle<2.8.0,>=2.7.0 in /opt/anaconda3/lib/python3.8/site-packages (from flake8) (2.7.0)\n",
            "Requirement already satisfied: pyflakes<2.4.0,>=2.3.0 in /opt/anaconda3/lib/python3.8/site-packages (from flake8) (2.3.1)\n"
          ]
        }
      ],
      "source": [
        "!pip install pycodestyle pycodestyle_magic\n",
        "!pip install flake8\n",
        "%load_ext pycodestyle_magic"
      ]
    },
    {
      "cell_type": "markdown",
      "metadata": {
        "id": "2IdH-pptZpeY"
      },
      "source": [
        "And now, for any code box that you want to check against style rules, begin the box with: %%pycodestyle"
      ]
    },
    {
      "cell_type": "code",
      "execution_count": null,
      "metadata": {
        "id": "2AsNLkPQZpeY"
      },
      "outputs": [],
      "source": [
        "%%pycodestyle\n",
        "\n",
        "a=2+2"
      ]
    },
    {
      "cell_type": "markdown",
      "metadata": {
        "id": "hBKbxVMGZpeY"
      },
      "source": [
        "Try playing with the code box until the first lint error, about missing whitespace, goes away.  You can ignore the error about the blank line at the end of the file; that's just an artifact of using a code box.  Notice that the box doesn't actually run unless you remove the pycodestyle line."
      ]
    },
    {
      "cell_type": "markdown",
      "metadata": {
        "id": "crNKnECMZpeY"
      },
      "source": [
        "Here's a box with more style problems.  Try fixing them all, besides the blank line issue.  (Notice that some things that seem like bad style, like importing things you don't use, actually aren't detected; and some things you might have thought were syntax errors, like weird indentation, are just style issues.)"
      ]
    },
    {
      "cell_type": "code",
      "execution_count": null,
      "metadata": {
        "id": "8Uc3d6-pZpeZ"
      },
      "outputs": [],
      "source": [
        "%%pycodestyle\n",
        "\n",
        "for i in range(5):\n",
        " import numpy, math\n",
        " print(\"Happy birthday!\")"
      ]
    },
    {
      "cell_type": "markdown",
      "metadata": {
        "id": "IKi6oYRjZpeZ"
      },
      "source": [
        "Try linting your answers to the problems earlier in this notebook, and show your style-compliant answers to the TA to finish this section.  (After linting, comment out %%pycodestyle so that the TA can see the real output.)\n",
        "\n",
        "You don't *have* to obey style rules, but you should be aware of how your habits differ from convention.  You might have to unlearn some habits if a future employer always runs a linter on your code (Google does)."
      ]
    },
    {
      "cell_type": "code",
      "execution_count": null,
      "metadata": {
        "id": "iSonhe6gZpeZ"
      },
      "outputs": [],
      "source": []
    }
  ],
  "metadata": {
    "colab": {
      "provenance": [],
      "include_colab_link": true
    },
    "kernelspec": {
      "display_name": "Python 3",
      "language": "python",
      "name": "python3"
    },
    "language_info": {
      "codemirror_mode": {
        "name": "ipython",
        "version": 3
      },
      "file_extension": ".py",
      "mimetype": "text/x-python",
      "name": "python",
      "nbconvert_exporter": "python",
      "pygments_lexer": "ipython3",
      "version": "3.8.8"
    }
  },
  "nbformat": 4,
  "nbformat_minor": 0
}