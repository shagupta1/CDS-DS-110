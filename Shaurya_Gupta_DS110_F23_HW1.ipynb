{
  "cells": [
    {
      "cell_type": "markdown",
      "metadata": {
        "id": "view-in-github",
        "colab_type": "text"
      },
      "source": [
        "<a href=\"https://colab.research.google.com/github/shagupta1/CDS-DS-110/blob/main/Shaurya_Gupta_DS110_F23_HW1.ipynb\" target=\"_parent\"><img src=\"https://colab.research.google.com/assets/colab-badge.svg\" alt=\"Open In Colab\"/></a>"
      ]
    },
    {
      "cell_type": "markdown",
      "metadata": {
        "id": "t5mfEbDIGzKz"
      },
      "source": [
        "# Homework 1 - 60 points possible - Due 9/18 11:59pm"
      ]
    },
    {
      "cell_type": "markdown",
      "metadata": {
        "id": "r3B-dpH5iZLv"
      },
      "source": [
        "# Problem 1:  Expression warmups (6 pts: 2,2,2)\n",
        "\n",
        "Compute the following quantities in the code boxes that follow each prompt.\n",
        "Note that for each of these, we care about what the code *evaluates to* and not what it *prints* - so you don't need to call print() for any of these.\n",
        "\n",
        "a) (2 pts) The square of 2023.\n",
        "\n"
      ]
    },
    {
      "cell_type": "code",
      "execution_count": null,
      "metadata": {
        "colab": {
          "base_uri": "https://localhost:8080/"
        },
        "id": "rEMn_1TbiuB8",
        "outputId": "60986e91-6841-45d9-e080-f2b74f826f72"
      },
      "outputs": [
        {
          "output_type": "execute_result",
          "data": {
            "text/plain": [
              "4092529"
            ]
          },
          "metadata": {},
          "execution_count": 1
        }
      ],
      "source": [
        "2023**2"
      ]
    },
    {
      "cell_type": "markdown",
      "metadata": {
        "id": "xxv597ytixjM"
      },
      "source": [
        "b) (2 pts) The number of characters in the phrase \"Pursue the unknown end.\"  (Including the whitespace and period.)"
      ]
    },
    {
      "cell_type": "code",
      "execution_count": null,
      "metadata": {
        "id": "uIGdIsgbi_Lb",
        "colab": {
          "base_uri": "https://localhost:8080/"
        },
        "outputId": "c319ac7e-78eb-4636-beea-6ddd9e8192e2"
      },
      "outputs": [
        {
          "output_type": "execute_result",
          "data": {
            "text/plain": [
              "22"
            ]
          },
          "metadata": {},
          "execution_count": 2
        }
      ],
      "source": [
        "input1 = \"Pursue the unknown end\"\n",
        "len(input1)\n"
      ]
    },
    {
      "cell_type": "markdown",
      "metadata": {
        "id": "V_fmMh-3ja1o"
      },
      "source": [
        "c) (2 pts) The remainder (import the math library) of -289 divided by 12."
      ]
    },
    {
      "cell_type": "code",
      "execution_count": null,
      "metadata": {
        "id": "QM5HsgRIjZ5T",
        "colab": {
          "base_uri": "https://localhost:8080/"
        },
        "outputId": "3e93f1c7-e97b-4397-ccab-b0988f09c034"
      },
      "outputs": [
        {
          "output_type": "stream",
          "name": "stdout",
          "text": [
            "-1.0\n"
          ]
        }
      ],
      "source": [
        "import math\n",
        "print(math.remainder(-289, 12))"
      ]
    },
    {
      "cell_type": "markdown",
      "metadata": {
        "id": "1U6hbQm2ve8J"
      },
      "source": [
        "# Problem 2:  Logic (14 pts: 2,4,4,4)"
      ]
    },
    {
      "cell_type": "markdown",
      "metadata": {
        "id": "fqyz6K_Qve8J"
      },
      "source": [
        "These problems will get you used to logical reasoning with and, or, and not, which come up quite a bit in programming.  For each problem, find the assignment of True or False to each variable that makes the variable \"result\" True."
      ]
    },
    {
      "cell_type": "markdown",
      "metadata": {
        "id": "8RAvrTeuve8J"
      },
      "source": [
        "a) (2 pts)"
      ]
    },
    {
      "cell_type": "code",
      "execution_count": null,
      "metadata": {
        "id": "l5nIfhNtve8K",
        "outputId": "6df92513-1925-4eaf-9e43-d8e1ff9fa084",
        "colab": {
          "base_uri": "https://localhost:8080/"
        }
      },
      "outputs": [
        {
          "output_type": "execute_result",
          "data": {
            "text/plain": [
              "True"
            ]
          },
          "metadata": {},
          "execution_count": 32
        }
      ],
      "source": [
        "a = True  # TODO:  change if necessary\n",
        "b = True   # TODO:  change if necessary\n",
        "result = a and b\n",
        "result"
      ]
    },
    {
      "cell_type": "markdown",
      "metadata": {
        "id": "DE_1Y-Lvve8L"
      },
      "source": [
        "b) (4 pts)"
      ]
    },
    {
      "cell_type": "code",
      "execution_count": null,
      "metadata": {
        "id": "jOoua0XVve8L",
        "outputId": "eb603c36-a4e6-4884-8266-44aa8cf64150",
        "colab": {
          "base_uri": "https://localhost:8080/"
        }
      },
      "outputs": [
        {
          "output_type": "execute_result",
          "data": {
            "text/plain": [
              "True"
            ]
          },
          "metadata": {},
          "execution_count": 33
        }
      ],
      "source": [
        "a = True   # TODO:  change if necessary\n",
        "b = False  # TODO:  change if necessary\n",
        "result = (a and not b) or (not a and b) and a\n",
        "result"
      ]
    },
    {
      "cell_type": "markdown",
      "metadata": {
        "id": "-iIz5M00ve8M"
      },
      "source": [
        "c) (4 pts)"
      ]
    },
    {
      "cell_type": "code",
      "execution_count": null,
      "metadata": {
        "id": "pUf3P-vbve8M",
        "outputId": "e70ae4dd-568a-40be-a5a1-7b0861a29bfe",
        "colab": {
          "base_uri": "https://localhost:8080/"
        }
      },
      "outputs": [
        {
          "output_type": "execute_result",
          "data": {
            "text/plain": [
              "True"
            ]
          },
          "metadata": {},
          "execution_count": 41
        }
      ],
      "source": [
        "a = True   # TODO:  change if necessary\n",
        "b = True   # TODO:  change if necessary\n",
        "c = False  # TODO:  change if necessary\n",
        "d = True   # TODO:  change if necessary\n",
        "e = True   # TODO:  change if necessary\n",
        "result = (not a or b) and (not b or not c) and (c or d) and (not d or e) and a\n",
        "result"
      ]
    },
    {
      "cell_type": "markdown",
      "metadata": {
        "id": "sm0ZhcA9ve8M"
      },
      "source": [
        "d) (4 pts)"
      ]
    },
    {
      "cell_type": "code",
      "execution_count": null,
      "metadata": {
        "id": "5lVZvZsRve8M",
        "outputId": "567a6d41-3052-4577-d0ad-b46add4d2f97",
        "colab": {
          "base_uri": "https://localhost:8080/"
        }
      },
      "outputs": [
        {
          "output_type": "execute_result",
          "data": {
            "text/plain": [
              "True"
            ]
          },
          "metadata": {},
          "execution_count": 46
        }
      ],
      "source": [
        "log_level = 0      # TODO:  change to 1 if necessary\n",
        "verbose = True       # TODO:  change to True if necessary\n",
        "gpu_enabled = True #TODO:  change to True if necessary\n",
        "extensive = True     # TODO:  change to True if necessary\n",
        "if extensive:\n",
        "    iterations = 20\n",
        "else:\n",
        "    iterations = 5\n",
        "logging = log_level != 0\n",
        "run_full_analysis = iterations >= 10 and gpu_enabled\n",
        "result = run_full_analysis and verbose and not logging\n",
        "result"
      ]
    },
    {
      "cell_type": "markdown",
      "metadata": {
        "id": "zSHlKxeL2Dxi"
      },
      "source": [
        "# Problem 3:  Conditional warmups (20 pts: 6,8,6)"
      ]
    },
    {
      "cell_type": "markdown",
      "metadata": {
        "id": "vnnhP-eg2GaI"
      },
      "source": [
        "Write a brief program for each prompt that makes use of the provided variable current_hour to determine what hour of the day it is.  current_hour can be set to any value between 0 (midnight) and 23 (11pm)."
      ]
    },
    {
      "cell_type": "code",
      "execution_count": null,
      "metadata": {
        "id": "7INB3vZW2QEZ"
      },
      "outputs": [],
      "source": [
        "current_hour = 19  # change to get different outputs below"
      ]
    },
    {
      "cell_type": "markdown",
      "metadata": {
        "id": "WyUKMhGV3-TV"
      },
      "source": [
        "a) (6 pts) If the current hour is between 5 and 9 inclusive, print \"Breakfast!\".  If the current hour is between 10 and 13 inclusive, print \"Brunch!\"  Otherwise, print \"Not breakfast :(\"."
      ]
    },
    {
      "cell_type": "code",
      "execution_count": null,
      "metadata": {
        "id": "0ywaqLMb4Znk",
        "colab": {
          "base_uri": "https://localhost:8080/"
        },
        "outputId": "1b2513d9-b219-489a-f2b8-83cfe97e5b55"
      },
      "outputs": [
        {
          "output_type": "stream",
          "name": "stdout",
          "text": [
            "Not breakfast\n"
          ]
        }
      ],
      "source": [
        "if 5<=current_hour<=9:\n",
        "  print(\"Breakfast\")\n",
        "elif 10<=current_hour<=13:\n",
        "  print(\"Brunch\")\n",
        "else:\n",
        "  print(\"Not breakfast\")"
      ]
    },
    {
      "cell_type": "markdown",
      "metadata": {
        "id": "ydjGzl3N5FxV"
      },
      "source": [
        "b) (8 points) If the time is equal to or after 9:00pm (21), print \"In three hours, it will be tomorrow.\" Otherwise, print \"In three hours, it will be \" followed by the hour three hours later using non-military time (so between 1 and 12).  (For example, if current_hour were 16, write \"In three hours, it will be 7.\")\n",
        "\n"
      ]
    },
    {
      "cell_type": "code",
      "execution_count": null,
      "metadata": {
        "id": "qCDO8lpj5ENe",
        "colab": {
          "base_uri": "https://localhost:8080/"
        },
        "outputId": "934eeed3-7a23-4724-90ec-7afa375dc7cd"
      },
      "outputs": [
        {
          "output_type": "stream",
          "name": "stdout",
          "text": [
            "Enter the time: 17\n",
            "In three hours, it will be 8\n"
          ]
        }
      ],
      "source": [
        "current_hour = int(input(\"Enter the time: \"))\n",
        "\n",
        "while current_hour < 0 or current_hour > 23:\n",
        "    print(\"Please enter a valid time (0-23).\")\n",
        "    current_hour = int(input(\"Enter the time: \"))\n",
        "\n",
        "\n",
        "if current_hour >= 21:\n",
        "\n",
        "    print(\"In three hours, it will be tomorrow.\")\n",
        "\n",
        "else:\n",
        "    current_hour += 3\n",
        "\n",
        "    if current_hour > 12:\n",
        "        current_hour -= 12\n",
        "\n",
        "    print(\"In three hours, it will be\", current_hour)\n"
      ]
    },
    {
      "cell_type": "markdown",
      "metadata": {
        "id": "gLNYT-TUve8O"
      },
      "source": [
        "c) (6 points)  Print \"X hours until midnight\" if the current hour is after noon, where X is the correct number of hours, and \"X hours until noon\" if it's before noon.  If it's noon or midnight, print \"Noon\" or \"Midnight\", respectively.  (You don't need to change \"hours\" to \"hour\" if there's just one.)"
      ]
    },
    {
      "cell_type": "code",
      "execution_count": null,
      "metadata": {
        "id": "tkR4o1Tave8O",
        "colab": {
          "base_uri": "https://localhost:8080/"
        },
        "outputId": "ba9af82d-c7aa-4286-89d6-861b50a98558"
      },
      "outputs": [
        {
          "output_type": "stream",
          "name": "stdout",
          "text": [
            "Enter the time13\n",
            "It will be midnight in 11 hours.\n"
          ]
        }
      ],
      "source": [
        "current_hour = int(input(\"Enter the time\"))\n",
        "\n",
        "while current_hour<0 or current_hour>23:\n",
        "  print(\"Please again enter the time\")\n",
        "  current_hour = int(input(\"Enter the time\"))\n",
        "\n",
        "if 0 < current_hour < 12:\n",
        "\n",
        "  print(\"It will be noon in\", 12 - current_hour, \"hours.\")\n",
        "\n",
        "if 12 < current_hour < 24:\n",
        "\n",
        "  print(\"It will be midnight in\", 24 - current_hour, \"hours.\")\n",
        "\n",
        "if current_hour == 0:\n",
        "\n",
        "  print(\"It is Midnight\")\n",
        "\n",
        "if current_hour == 12:\n",
        "\n",
        "  print(\"It is Noon\")"
      ]
    },
    {
      "cell_type": "markdown",
      "metadata": {
        "id": "4ZCmUSwkr484"
      },
      "source": [
        "# Problem 4: Lists (20 pts: 2,2,3,4,3,3)\n",
        "\n",
        "Some gas prices around the Boston area are 4.99, 5.10, 5.40, and 4.80.\n",
        "\n",
        "a, 2pts) Create a variable named gas_prices that stores all four values as a list."
      ]
    },
    {
      "cell_type": "code",
      "execution_count": null,
      "metadata": {
        "id": "Ujr6MRQQsX9t"
      },
      "outputs": [],
      "source": [
        "gas_price = [4.99, 5.10, 5.40, 4.80]"
      ]
    },
    {
      "cell_type": "markdown",
      "metadata": {
        "id": "Yr3TSbbJsoao"
      },
      "source": [
        "b, 2pts) We discovered a new gas station.  Call the list method\n",
        " append() to add the value 4.75 to the end of the list."
      ]
    },
    {
      "cell_type": "code",
      "execution_count": null,
      "metadata": {
        "id": "NqzSEhGfsfiy",
        "colab": {
          "base_uri": "https://localhost:8080/"
        },
        "outputId": "95e345a2-0a3c-4568-ba54-6eddce0155bb"
      },
      "outputs": [
        {
          "output_type": "execute_result",
          "data": {
            "text/plain": [
              "[4.99, 5.1, 5.4, 4.8, 4.75]"
            ]
          },
          "metadata": {},
          "execution_count": 15
        }
      ],
      "source": [
        "gas_price.append(4.75)\n",
        "gas_price"
      ]
    },
    {
      "cell_type": "markdown",
      "metadata": {
        "id": "aPVRow22s6mp"
      },
      "source": [
        "c, 3pts) Call the sort() method on the prices, then write an expression that returns the median price in the list, that is, the price in the middle.  (You can hardcode the index of the median price.)"
      ]
    },
    {
      "cell_type": "code",
      "execution_count": null,
      "metadata": {
        "id": "vRM2otpXtOCg",
        "colab": {
          "base_uri": "https://localhost:8080/"
        },
        "outputId": "ea27db44-bd30-4d5f-db9f-976f46ea3151"
      },
      "outputs": [
        {
          "output_type": "stream",
          "name": "stdout",
          "text": [
            "4.99\n"
          ]
        }
      ],
      "source": [
        "gas_price.sort()\n",
        "median_index = int((len(gas_price)-1)/2)\n",
        "print(gas_price[median_index])"
      ]
    },
    {
      "cell_type": "markdown",
      "metadata": {
        "id": "2-MkftMYtlgZ"
      },
      "source": [
        "d, 4pts) Assuming the list is already sorted, code an expression that returns the difference between the largest price and the smallest price."
      ]
    },
    {
      "cell_type": "code",
      "execution_count": null,
      "metadata": {
        "id": "V1RO8jtHtxnf",
        "colab": {
          "base_uri": "https://localhost:8080/"
        },
        "outputId": "607e5e4a-e68c-40af-f691-db192a09b27b"
      },
      "outputs": [
        {
          "output_type": "stream",
          "name": "stdout",
          "text": [
            "Maximum Gas Price: 5.4\n",
            "Minimum Gas Price: 4.75\n"
          ]
        }
      ],
      "source": [
        "max_price = 0\n",
        "min_price = 10000\n",
        "\n",
        "for price in gas_price:\n",
        "    if price > max_price:\n",
        "        max_price = price  # Update max_price if a larger price is found\n",
        "    if price < min_price:\n",
        "        min_price = price  # Update min_price if a smaller price is found\n",
        "\n",
        "print(\"Maximum Gas Price:\", max_price)\n",
        "print(\"Minimum Gas Price:\", min_price)"
      ]
    },
    {
      "cell_type": "markdown",
      "metadata": {
        "id": "T7yGzCy7ve8Q"
      },
      "source": [
        "e, 3pts) Look online for a list method that reverses the order of the list.  Do this to gas_prices and print it."
      ]
    },
    {
      "cell_type": "code",
      "execution_count": null,
      "metadata": {
        "id": "FNGPFFepve8Q",
        "colab": {
          "base_uri": "https://localhost:8080/"
        },
        "outputId": "b07d0ab5-bbaa-4aee-edc1-b46f1dac83a9"
      },
      "outputs": [
        {
          "output_type": "stream",
          "name": "stdout",
          "text": [
            "Un-reversed Gas Prices: [5.4, 5.1, 4.99, 4.8, 4.75]\n",
            "Reversed Gas Prices: [4.75, 4.8, 4.99, 5.1, 5.4]\n"
          ]
        }
      ],
      "source": [
        "print(\"Un-reversed Gas Prices:\", gas_price)\n",
        "gas_price.reverse()\n",
        "print(\"Reversed Gas Prices:\", gas_price)"
      ]
    },
    {
      "cell_type": "markdown",
      "metadata": {
        "id": "G5irYf8mve8Q"
      },
      "source": [
        "f, 3 pts) Here is a list-of-lists \"prices\" containing gas prices by the gallon in the first list, and milk prices by the gallon in the second list.  Write the expression that accesses the second milk price (3.04)."
      ]
    },
    {
      "cell_type": "code",
      "execution_count": null,
      "metadata": {
        "id": "QKvxpo4qve8Q"
      },
      "outputs": [],
      "source": [
        "prices = [[4.99, 5.10, 5.40, 4.80], # gas prices\n",
        "          [2.90, 3.04, 3.32, 3.55]] # milk prices\n"
      ]
    },
    {
      "cell_type": "code",
      "execution_count": null,
      "metadata": {
        "id": "l_L6YvNrve8Q",
        "colab": {
          "base_uri": "https://localhost:8080/"
        },
        "outputId": "8145c214-6495-457b-a61a-6197974f8a41"
      },
      "outputs": [
        {
          "output_type": "stream",
          "name": "stdout",
          "text": [
            "3.04\n"
          ]
        }
      ],
      "source": [
        "print(prices[1][1])"
      ]
    },
    {
      "cell_type": "markdown",
      "metadata": {
        "id": "ck_9Ez5eve8R"
      },
      "source": [
        "g, 3pts) Use the function max() to find the largest *milk* price.  (Index just once into prices, to get the milk list.)"
      ]
    },
    {
      "cell_type": "code",
      "execution_count": 66,
      "metadata": {
        "id": "aRyTmy6Gve8S",
        "colab": {
          "base_uri": "https://localhost:8080/",
          "height": 245
        },
        "outputId": "d7e69a50-6693-498a-f179-6622819af3e5"
      },
      "outputs": [
        {
          "output_type": "error",
          "ename": "TypeError",
          "evalue": "ignored",
          "traceback": [
            "\u001b[0;31m---------------------------------------------------------------------------\u001b[0m",
            "\u001b[0;31mTypeError\u001b[0m                                 Traceback (most recent call last)",
            "\u001b[0;32m<ipython-input-66-6737abe68abb>\u001b[0m in \u001b[0;36m<cell line: 3>\u001b[0;34m()\u001b[0m\n\u001b[1;32m      1\u001b[0m \u001b[0mprices\u001b[0m \u001b[0;34m=\u001b[0m \u001b[0;34m[\u001b[0m\u001b[0;34m[\u001b[0m\u001b[0;36m4.99\u001b[0m\u001b[0;34m,\u001b[0m \u001b[0;36m5.10\u001b[0m\u001b[0;34m,\u001b[0m \u001b[0;36m5.40\u001b[0m\u001b[0;34m,\u001b[0m \u001b[0;36m4.80\u001b[0m\u001b[0;34m]\u001b[0m\u001b[0;34m,\u001b[0m \u001b[0;34m[\u001b[0m\u001b[0;36m2.90\u001b[0m\u001b[0;34m,\u001b[0m \u001b[0;36m3.04\u001b[0m\u001b[0;34m,\u001b[0m \u001b[0;36m3.32\u001b[0m\u001b[0;34m,\u001b[0m \u001b[0;36m3.55\u001b[0m\u001b[0;34m]\u001b[0m\u001b[0;34m]\u001b[0m\u001b[0;34m\u001b[0m\u001b[0;34m\u001b[0m\u001b[0m\n\u001b[1;32m      2\u001b[0m \u001b[0;34m\u001b[0m\u001b[0m\n\u001b[0;32m----> 3\u001b[0;31m \u001b[0mlargest_milk_price\u001b[0m \u001b[0;34m=\u001b[0m \u001b[0mmax\u001b[0m\u001b[0;34m(\u001b[0m\u001b[0mprices\u001b[0m\u001b[0;34m[\u001b[0m\u001b[0;36m1\u001b[0m\u001b[0;34m]\u001b[0m\u001b[0;34m)\u001b[0m\u001b[0;34m\u001b[0m\u001b[0;34m\u001b[0m\u001b[0m\n\u001b[0m\u001b[1;32m      4\u001b[0m \u001b[0;34m\u001b[0m\u001b[0m\n\u001b[1;32m      5\u001b[0m \u001b[0mprint\u001b[0m\u001b[0;34m(\u001b[0m\u001b[0;34m\"Largest Milk Price:\"\u001b[0m\u001b[0;34m,\u001b[0m \u001b[0mlargest_milk_price\u001b[0m\u001b[0;34m)\u001b[0m\u001b[0;34m\u001b[0m\u001b[0;34m\u001b[0m\u001b[0m\n",
            "\u001b[0;31mTypeError\u001b[0m: 'int' object is not callable"
          ]
        }
      ],
      "source": [
        "prices = [[4.99, 5.10, 5.40, 4.80], [2.90, 3.04, 3.32, 3.55]]\n",
        "\n",
        "largest_milk_price = max(prices[1])\n",
        "\n",
        "print(\"Largest Milk Price:\", largest_milk_price)"
      ]
    }
  ],
  "metadata": {
    "colab": {
      "provenance": [],
      "include_colab_link": true
    },
    "kernelspec": {
      "display_name": "Python 3",
      "language": "python",
      "name": "python3"
    },
    "language_info": {
      "codemirror_mode": {
        "name": "ipython",
        "version": 3
      },
      "file_extension": ".py",
      "mimetype": "text/x-python",
      "name": "python",
      "nbconvert_exporter": "python",
      "pygments_lexer": "ipython3",
      "version": "3.8.8"
    }
  },
  "nbformat": 4,
  "nbformat_minor": 0
}