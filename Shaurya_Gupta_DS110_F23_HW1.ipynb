{
  "cells": [
    {
      "cell_type": "markdown",
      "metadata": {
        "id": "view-in-github",
        "colab_type": "text"
      },
      "source": [
        "<a href=\"https://colab.research.google.com/github/shagupta1/CDS-DS-110/blob/main/Shaurya_Gupta_DS110_F23_HW1.ipynb\" target=\"_parent\"><img src=\"https://colab.research.google.com/assets/colab-badge.svg\" alt=\"Open In Colab\"/></a>"
      ]
    },
    {
      "cell_type": "markdown",
      "metadata": {
        "id": "t5mfEbDIGzKz"
      },
      "source": [
        "# Homework 1 - 60 points possible - Due 9/18 11:59pm"
      ]
    },
    {
      "cell_type": "markdown",
      "metadata": {
        "id": "r3B-dpH5iZLv"
      },
      "source": [
        "# Problem 1:  Expression warmups (6 pts: 2,2,2)\n",
        "\n",
        "Compute the following quantities in the code boxes that follow each prompt.\n",
        "Note that for each of these, we care about what the code *evaluates to* and not what it *prints* - so you don't need to call print() for any of these.\n",
        "\n",
        "a) (2 pts) The square of 2023.\n",
        "\n"
      ]
    },
    {
      "cell_type": "code",
      "execution_count": null,
      "metadata": {
        "colab": {
          "base_uri": "https://localhost:8080/"
        },
        "id": "rEMn_1TbiuB8",
        "outputId": "a7d23652-2fc6-4ac4-d7a1-4642caf017d2"
      },
      "outputs": [
        {
          "output_type": "execute_result",
          "data": {
            "text/plain": [
              "4092529"
            ]
          },
          "metadata": {},
          "execution_count": 1
        }
      ],
      "source": [
        "2023**2"
      ]
    },
    {
      "cell_type": "markdown",
      "metadata": {
        "id": "xxv597ytixjM"
      },
      "source": [
        "b) (2 pts) The number of characters in the phrase \"Pursue the unknown end.\"  (Including the whitespace and period.)"
      ]
    },
    {
      "cell_type": "code",
      "execution_count": null,
      "metadata": {
        "id": "uIGdIsgbi_Lb",
        "colab": {
          "base_uri": "https://localhost:8080/"
        },
        "outputId": "8242f6f7-256f-4f08-9962-4a442b048015"
      },
      "outputs": [
        {
          "output_type": "execute_result",
          "data": {
            "text/plain": [
              "22"
            ]
          },
          "metadata": {},
          "execution_count": 2
        }
      ],
      "source": [
        "input1 = \"Pursue the unknown end\"\n",
        "len(input1)\n"
      ]
    },
    {
      "cell_type": "markdown",
      "metadata": {
        "id": "V_fmMh-3ja1o"
      },
      "source": [
        "c) (2 pts) The remainder (import the math library) of -289 divided by 12."
      ]
    },
    {
      "cell_type": "code",
      "execution_count": null,
      "metadata": {
        "id": "QM5HsgRIjZ5T",
        "colab": {
          "base_uri": "https://localhost:8080/"
        },
        "outputId": "e1999a2e-f312-40ae-c397-5f5e8fd95124"
      },
      "outputs": [
        {
          "output_type": "stream",
          "name": "stdout",
          "text": [
            "-1.0\n"
          ]
        }
      ],
      "source": [
        "import math\n",
        "print(math.remainder(-289, 12))"
      ]
    },
    {
      "cell_type": "markdown",
      "metadata": {
        "id": "1U6hbQm2ve8J"
      },
      "source": [
        "# Problem 2:  Logic (14 pts: 2,4,4,4)"
      ]
    },
    {
      "cell_type": "markdown",
      "metadata": {
        "id": "fqyz6K_Qve8J"
      },
      "source": [
        "These problems will get you used to logical reasoning with and, or, and not, which come up quite a bit in programming.  For each problem, find the assignment of True or False to each variable that makes the variable \"result\" True."
      ]
    },
    {
      "cell_type": "markdown",
      "metadata": {
        "id": "8RAvrTeuve8J"
      },
      "source": [
        "a) (2 pts)"
      ]
    },
    {
      "cell_type": "code",
      "execution_count": null,
      "metadata": {
        "id": "l5nIfhNtve8K",
        "outputId": "587029ef-954f-43d9-e04e-7ac0699d53b6"
      },
      "outputs": [
        {
          "data": {
            "text/plain": [
              "False"
            ]
          },
          "execution_count": 2,
          "metadata": {},
          "output_type": "execute_result"
        }
      ],
      "source": [
        "a = False   # TODO:  change if necessary\n",
        "b = False   # TODO:  change if necessary\n",
        "result = a and b\n",
        "result"
      ]
    },
    {
      "cell_type": "markdown",
      "metadata": {
        "id": "DE_1Y-Lvve8L"
      },
      "source": [
        "b) (4 pts)"
      ]
    },
    {
      "cell_type": "code",
      "execution_count": null,
      "metadata": {
        "id": "jOoua0XVve8L",
        "outputId": "5f7e015d-dd96-4232-c130-672f43751978"
      },
      "outputs": [
        {
          "data": {
            "text/plain": [
              "False"
            ]
          },
          "execution_count": 3,
          "metadata": {},
          "output_type": "execute_result"
        }
      ],
      "source": [
        "a = False   # TODO:  change if necessary\n",
        "b = False  # TODO:  change if necessary\n",
        "result = (a and not b) or (not a and b) and a\n",
        "result"
      ]
    },
    {
      "cell_type": "markdown",
      "metadata": {
        "id": "-iIz5M00ve8M"
      },
      "source": [
        "c) (4 pts)"
      ]
    },
    {
      "cell_type": "code",
      "execution_count": null,
      "metadata": {
        "id": "pUf3P-vbve8M",
        "outputId": "d1f3142d-bdb8-49b5-e2b2-bc76471cd6fe"
      },
      "outputs": [
        {
          "data": {
            "text/plain": [
              "False"
            ]
          },
          "execution_count": 4,
          "metadata": {},
          "output_type": "execute_result"
        }
      ],
      "source": [
        "a = False   # TODO:  change if necessary\n",
        "b = False   # TODO:  change if necessary\n",
        "c = False  # TODO:  change if necessary\n",
        "d = False   # TODO:  change if necessary\n",
        "e = False   # TODO:  change if necessary\n",
        "result = (not a or b) and (not b or not c) and (c or d) and (not d or e) and a\n",
        "result"
      ]
    },
    {
      "cell_type": "markdown",
      "metadata": {
        "id": "sm0ZhcA9ve8M"
      },
      "source": [
        "d) (4 pts)"
      ]
    },
    {
      "cell_type": "code",
      "execution_count": null,
      "metadata": {
        "id": "5lVZvZsRve8M",
        "outputId": "6bf63419-725c-4c1c-c02d-a8a89c68b395"
      },
      "outputs": [
        {
          "data": {
            "text/plain": [
              "False"
            ]
          },
          "execution_count": 5,
          "metadata": {},
          "output_type": "execute_result"
        }
      ],
      "source": [
        "log_level = 0        # TODO:  change to 1 if necessary\n",
        "verbose = False       # TODO:  change to True if necessary\n",
        "gpu_enabled = False   # TODO:  change to True if necessary\n",
        "extensive = False     # TODO:  change to True if necessary\n",
        "if extensive:\n",
        "    iterations = 20\n",
        "else:\n",
        "    iterations = 5\n",
        "logging = log_level != 0\n",
        "run_full_analysis = iterations >= 10 and gpu_enabled\n",
        "result = run_full_analysis and verbose and not logging\n",
        "result"
      ]
    },
    {
      "cell_type": "markdown",
      "metadata": {
        "id": "zSHlKxeL2Dxi"
      },
      "source": [
        "# Problem 3:  Conditional warmups (20 pts: 6,8,6)"
      ]
    },
    {
      "cell_type": "markdown",
      "metadata": {
        "id": "vnnhP-eg2GaI"
      },
      "source": [
        "Write a brief program for each prompt that makes use of the provided variable current_hour to determine what hour of the day it is.  current_hour can be set to any value between 0 (midnight) and 23 (11pm)."
      ]
    },
    {
      "cell_type": "code",
      "execution_count": null,
      "metadata": {
        "id": "7INB3vZW2QEZ"
      },
      "outputs": [],
      "source": [
        "current_hour = 19  # change to get different outputs below"
      ]
    },
    {
      "cell_type": "markdown",
      "metadata": {
        "id": "WyUKMhGV3-TV"
      },
      "source": [
        "a) (6 pts) If the current hour is between 5 and 9 inclusive, print \"Breakfast!\".  If the current hour is between 10 and 13 inclusive, print \"Brunch!\"  Otherwise, print \"Not breakfast :(\"."
      ]
    },
    {
      "cell_type": "code",
      "execution_count": null,
      "metadata": {
        "id": "0ywaqLMb4Znk",
        "colab": {
          "base_uri": "https://localhost:8080/"
        },
        "outputId": "9a43c86e-b2b7-4240-8e0d-52ba4b6019a2"
      },
      "outputs": [
        {
          "output_type": "stream",
          "name": "stdout",
          "text": [
            "Not breakfast\n"
          ]
        }
      ],
      "source": [
        "if 5<=current_hour<=9:\n",
        "  print(\"Breakfast\")\n",
        "elif 10<=current_hour<=13:\n",
        "  print(\"Brunch\")\n",
        "else:\n",
        "  print(\"Not breakfast\")"
      ]
    },
    {
      "cell_type": "markdown",
      "metadata": {
        "id": "ydjGzl3N5FxV"
      },
      "source": [
        "b) (8 points) If the time is equal to or after 9:00pm (21), print \"In three hours, it will be tomorrow.\" Otherwise, print \"In three hours, it will be \" followed by the hour three hours later using non-military time (so between 1 and 12).  (For example, if current_hour were 16, write \"In three hours, it will be 7.\")\n",
        "\n"
      ]
    },
    {
      "cell_type": "code",
      "execution_count": 17,
      "metadata": {
        "id": "qCDO8lpj5ENe",
        "colab": {
          "base_uri": "https://localhost:8080/"
        },
        "outputId": "45299c68-fc9e-4449-a618-5d09e6067e51"
      },
      "outputs": [
        {
          "output_type": "stream",
          "name": "stdout",
          "text": [
            "Enter the time: 20\n",
            "In three hours, it will be 11\n"
          ]
        }
      ],
      "source": [
        "current_hour = int(input(\"Enter the time: \"))\n",
        "\n",
        "while current_hour < 0 or current_hour > 23:\n",
        "    print(\"Please enter a valid time (0-23).\")\n",
        "    current_hour = int(input(\"Enter the time: \"))\n",
        "\n",
        "\n",
        "if current_hour >= 21:\n",
        "\n",
        "    print(\"In three hours, it will be tomorrow.\")\n",
        "\n",
        "else:\n",
        "    current_hour += 3\n",
        "\n",
        "    if current_hour > 12:\n",
        "        current_hour -= 12\n",
        "\n",
        "    print(\"In three hours, it will be\", current_hour)\n"
      ]
    },
    {
      "cell_type": "code",
      "source": [
        "current_hour = int(input(\"Enter the time\"))\n",
        "while current_hour<0 or current_hour>23:\n",
        "  print(\"Please again enter the time\")\n",
        "  current_hour = int(input(\"Enter the time\"))\n",
        "Midnight = False\n",
        "if current_hour >= 21:\n",
        "  Midnight = True\n",
        "  print(\"In three hours, it will be tomorrow.\")\n",
        "current_hour = current_hour + 3\n",
        "if current_hour < 12 and Midnight == False:\n",
        "  print(\"In three hours, it will be\", current_hour)\n",
        "if current_hour > 12 and Midnight == False:\n",
        "   print(\"In three hours, it will be\", current_hour - 12)"
      ],
      "metadata": {
        "colab": {
          "base_uri": "https://localhost:8080/"
        },
        "id": "LJ67KfexEoUs",
        "outputId": "6521af9c-3ebb-4734-a890-682aaaaed5d8"
      },
      "execution_count": 15,
      "outputs": [
        {
          "output_type": "stream",
          "name": "stdout",
          "text": [
            "Enter the time20\n",
            "In three hours, it will be 11\n"
          ]
        }
      ]
    },
    {
      "cell_type": "markdown",
      "metadata": {
        "id": "gLNYT-TUve8O"
      },
      "source": [
        "c) (6 points)  Print \"X hours until midnight\" if the current hour is after noon, where X is the correct number of hours, and \"X hours until noon\" if it's before noon.  If it's noon or midnight, print \"Noon\" or \"Midnight\", respectively.  (You don't need to change \"hours\" to \"hour\" if there's just one.)"
      ]
    },
    {
      "cell_type": "code",
      "execution_count": 40,
      "metadata": {
        "id": "tkR4o1Tave8O",
        "colab": {
          "base_uri": "https://localhost:8080/",
          "height": 460
        },
        "outputId": "cd3bcd4b-bce3-4174-f94c-40f2627979aa"
      },
      "outputs": [
        {
          "output_type": "stream",
          "name": "stdout",
          "text": [
            "Enter the time24\n",
            "Please again enter the time\n",
            "Enter the time24\n",
            "Please again enter the time\n"
          ]
        },
        {
          "output_type": "error",
          "ename": "KeyboardInterrupt",
          "evalue": "ignored",
          "traceback": [
            "\u001b[0;31m---------------------------------------------------------------------------\u001b[0m",
            "\u001b[0;31mKeyboardInterrupt\u001b[0m                         Traceback (most recent call last)",
            "\u001b[0;32m<ipython-input-40-3513b111acd8>\u001b[0m in \u001b[0;36m<cell line: 3>\u001b[0;34m()\u001b[0m\n\u001b[1;32m      3\u001b[0m \u001b[0;32mwhile\u001b[0m \u001b[0mcurrent_hour\u001b[0m\u001b[0;34m<\u001b[0m\u001b[0;36m0\u001b[0m \u001b[0;32mor\u001b[0m \u001b[0mcurrent_hour\u001b[0m\u001b[0;34m>\u001b[0m\u001b[0;36m23\u001b[0m\u001b[0;34m:\u001b[0m\u001b[0;34m\u001b[0m\u001b[0;34m\u001b[0m\u001b[0m\n\u001b[1;32m      4\u001b[0m   \u001b[0mprint\u001b[0m\u001b[0;34m(\u001b[0m\u001b[0;34m\"Please again enter the time\"\u001b[0m\u001b[0;34m)\u001b[0m\u001b[0;34m\u001b[0m\u001b[0;34m\u001b[0m\u001b[0m\n\u001b[0;32m----> 5\u001b[0;31m   \u001b[0mcurrent_hour\u001b[0m \u001b[0;34m=\u001b[0m \u001b[0mint\u001b[0m\u001b[0;34m(\u001b[0m\u001b[0minput\u001b[0m\u001b[0;34m(\u001b[0m\u001b[0;34m\"Enter the time\"\u001b[0m\u001b[0;34m)\u001b[0m\u001b[0;34m)\u001b[0m\u001b[0;34m\u001b[0m\u001b[0;34m\u001b[0m\u001b[0m\n\u001b[0m\u001b[1;32m      6\u001b[0m \u001b[0;34m\u001b[0m\u001b[0m\n\u001b[1;32m      7\u001b[0m \u001b[0;32mif\u001b[0m \u001b[0;36m0\u001b[0m \u001b[0;34m<\u001b[0m \u001b[0mcurrent_hour\u001b[0m \u001b[0;34m<\u001b[0m \u001b[0;36m12\u001b[0m\u001b[0;34m:\u001b[0m\u001b[0;34m\u001b[0m\u001b[0;34m\u001b[0m\u001b[0m\n",
            "\u001b[0;32m/usr/local/lib/python3.10/dist-packages/ipykernel/kernelbase.py\u001b[0m in \u001b[0;36mraw_input\u001b[0;34m(self, prompt)\u001b[0m\n\u001b[1;32m    849\u001b[0m                 \u001b[0;34m\"raw_input was called, but this frontend does not support input requests.\"\u001b[0m\u001b[0;34m\u001b[0m\u001b[0;34m\u001b[0m\u001b[0m\n\u001b[1;32m    850\u001b[0m             )\n\u001b[0;32m--> 851\u001b[0;31m         return self._input_request(str(prompt),\n\u001b[0m\u001b[1;32m    852\u001b[0m             \u001b[0mself\u001b[0m\u001b[0;34m.\u001b[0m\u001b[0m_parent_ident\u001b[0m\u001b[0;34m,\u001b[0m\u001b[0;34m\u001b[0m\u001b[0;34m\u001b[0m\u001b[0m\n\u001b[1;32m    853\u001b[0m             \u001b[0mself\u001b[0m\u001b[0;34m.\u001b[0m\u001b[0m_parent_header\u001b[0m\u001b[0;34m,\u001b[0m\u001b[0;34m\u001b[0m\u001b[0;34m\u001b[0m\u001b[0m\n",
            "\u001b[0;32m/usr/local/lib/python3.10/dist-packages/ipykernel/kernelbase.py\u001b[0m in \u001b[0;36m_input_request\u001b[0;34m(self, prompt, ident, parent, password)\u001b[0m\n\u001b[1;32m    893\u001b[0m             \u001b[0;32mexcept\u001b[0m \u001b[0mKeyboardInterrupt\u001b[0m\u001b[0;34m:\u001b[0m\u001b[0;34m\u001b[0m\u001b[0;34m\u001b[0m\u001b[0m\n\u001b[1;32m    894\u001b[0m                 \u001b[0;31m# re-raise KeyboardInterrupt, to truncate traceback\u001b[0m\u001b[0;34m\u001b[0m\u001b[0;34m\u001b[0m\u001b[0m\n\u001b[0;32m--> 895\u001b[0;31m                 \u001b[0;32mraise\u001b[0m \u001b[0mKeyboardInterrupt\u001b[0m\u001b[0;34m(\u001b[0m\u001b[0;34m\"Interrupted by user\"\u001b[0m\u001b[0;34m)\u001b[0m \u001b[0;32mfrom\u001b[0m \u001b[0;32mNone\u001b[0m\u001b[0;34m\u001b[0m\u001b[0;34m\u001b[0m\u001b[0m\n\u001b[0m\u001b[1;32m    896\u001b[0m             \u001b[0;32mexcept\u001b[0m \u001b[0mException\u001b[0m \u001b[0;32mas\u001b[0m \u001b[0me\u001b[0m\u001b[0;34m:\u001b[0m\u001b[0;34m\u001b[0m\u001b[0;34m\u001b[0m\u001b[0m\n\u001b[1;32m    897\u001b[0m                 \u001b[0mself\u001b[0m\u001b[0;34m.\u001b[0m\u001b[0mlog\u001b[0m\u001b[0;34m.\u001b[0m\u001b[0mwarning\u001b[0m\u001b[0;34m(\u001b[0m\u001b[0;34m\"Invalid Message:\"\u001b[0m\u001b[0;34m,\u001b[0m \u001b[0mexc_info\u001b[0m\u001b[0;34m=\u001b[0m\u001b[0;32mTrue\u001b[0m\u001b[0;34m)\u001b[0m\u001b[0;34m\u001b[0m\u001b[0;34m\u001b[0m\u001b[0m\n",
            "\u001b[0;31mKeyboardInterrupt\u001b[0m: Interrupted by user"
          ]
        }
      ],
      "source": [
        "current_hour = int(input(\"Enter the time\"))\n",
        "\n",
        "while current_hour<0 or current_hour>23:\n",
        "  print(\"Please again enter the time\")\n",
        "  current_hour = int(input(\"Enter the time\"))\n",
        "\n",
        "if 0 < current_hour < 12:\n",
        "\n",
        "  print(\"It will be noon in\", 12 - current_hour, \"hours.\")\n",
        "\n",
        "if 12 < current_hour < 24:\n",
        "\n",
        "  print(\"It will be midnight in\", 24 - current_hour, \"hours.\")\n",
        "\n",
        "if current_hour == 0:\n",
        "\n",
        "  print(\"It is Midnight\")\n",
        "\n",
        "if current_hour == 12:\n",
        "\n",
        "  print(\"It is Noon\")"
      ]
    },
    {
      "cell_type": "markdown",
      "metadata": {
        "id": "4ZCmUSwkr484"
      },
      "source": [
        "# Problem 4: Lists (20 pts: 2,2,3,4,3,3)\n",
        "\n",
        "Some gas prices around the Boston area are 4.99, 5.10, 5.40, and 4.80.\n",
        "\n",
        "a, 2pts) Create a variable named gas_prices that stores all four values as a list."
      ]
    },
    {
      "cell_type": "code",
      "execution_count": 41,
      "metadata": {
        "id": "Ujr6MRQQsX9t"
      },
      "outputs": [],
      "source": [
        "gas_price = [4.99, 5.10, 5.40, 4.80]"
      ]
    },
    {
      "cell_type": "markdown",
      "metadata": {
        "id": "Yr3TSbbJsoao"
      },
      "source": [
        "b, 2pts) We discovered a new gas station.  Call the list method\n",
        " append() to add the value 4.75 to the end of the list."
      ]
    },
    {
      "cell_type": "code",
      "execution_count": 42,
      "metadata": {
        "id": "NqzSEhGfsfiy",
        "colab": {
          "base_uri": "https://localhost:8080/"
        },
        "outputId": "8b30edf8-a952-4605-88f9-dffe0bd677a0"
      },
      "outputs": [
        {
          "output_type": "execute_result",
          "data": {
            "text/plain": [
              "[4.99, 5.1, 5.4, 4.8, 4.75]"
            ]
          },
          "metadata": {},
          "execution_count": 42
        }
      ],
      "source": [
        "gas_price.append(4.75)\n",
        "gas_price"
      ]
    },
    {
      "cell_type": "markdown",
      "metadata": {
        "id": "aPVRow22s6mp"
      },
      "source": [
        "c, 3pts) Call the sort() method on the prices, then write an expression that returns the median price in the list, that is, the price in the middle.  (You can hardcode the index of the median price.)"
      ]
    },
    {
      "cell_type": "code",
      "execution_count": null,
      "metadata": {
        "id": "vRM2otpXtOCg"
      },
      "outputs": [],
      "source": [
        "# TODO"
      ]
    },
    {
      "cell_type": "markdown",
      "metadata": {
        "id": "2-MkftMYtlgZ"
      },
      "source": [
        "d, 4pts) Assuming the list is already sorted, code an expression that returns the difference between the largest price and the smallest price."
      ]
    },
    {
      "cell_type": "code",
      "execution_count": null,
      "metadata": {
        "id": "V1RO8jtHtxnf"
      },
      "outputs": [],
      "source": [
        "# TODO"
      ]
    },
    {
      "cell_type": "markdown",
      "metadata": {
        "id": "T7yGzCy7ve8Q"
      },
      "source": [
        "e, 3pts) Look online for a list method that reverses the order of the list.  Do this to gas_prices and print it."
      ]
    },
    {
      "cell_type": "code",
      "execution_count": null,
      "metadata": {
        "id": "FNGPFFepve8Q"
      },
      "outputs": [],
      "source": [
        "# TODO"
      ]
    },
    {
      "cell_type": "markdown",
      "metadata": {
        "id": "G5irYf8mve8Q"
      },
      "source": [
        "f, 3 pts) Here is a list-of-lists \"prices\" containing gas prices by the gallon in the first list, and milk prices by the gallon in the second list.  Write the expression that accesses the second milk price (3.04)."
      ]
    },
    {
      "cell_type": "code",
      "execution_count": null,
      "metadata": {
        "id": "QKvxpo4qve8Q"
      },
      "outputs": [],
      "source": [
        "prices = [[4.99, 5.10, 5.40, 4.80], # gas prices\n",
        "          [2.90, 3.04, 3.32, 3.55]] # milk prices"
      ]
    },
    {
      "cell_type": "code",
      "execution_count": null,
      "metadata": {
        "id": "l_L6YvNrve8Q"
      },
      "outputs": [],
      "source": [
        "# TODO"
      ]
    },
    {
      "cell_type": "markdown",
      "metadata": {
        "id": "ck_9Ez5eve8R"
      },
      "source": [
        "g, 3pts) Use the function max() to find the largest *milk* price.  (Index just once into prices, to get the milk list.)"
      ]
    },
    {
      "cell_type": "code",
      "execution_count": null,
      "metadata": {
        "id": "aRyTmy6Gve8S"
      },
      "outputs": [],
      "source": [
        "# TODO"
      ]
    }
  ],
  "metadata": {
    "colab": {
      "provenance": [],
      "include_colab_link": true
    },
    "kernelspec": {
      "display_name": "Python 3",
      "language": "python",
      "name": "python3"
    },
    "language_info": {
      "codemirror_mode": {
        "name": "ipython",
        "version": 3
      },
      "file_extension": ".py",
      "mimetype": "text/x-python",
      "name": "python",
      "nbconvert_exporter": "python",
      "pygments_lexer": "ipython3",
      "version": "3.8.8"
    }
  },
  "nbformat": 4,
  "nbformat_minor": 0
}